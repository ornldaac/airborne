{
 "cells": [
  {
   "cell_type": "markdown",
   "id": "19a31733-3e83-4516-807d-958632e40aeb",
   "metadata": {},
   "source": [
    "#  HyTES data - Access and Visualization\n",
    "\n",
    "## SBG Science and Applications Technical Interchange Meeting \n",
    "![SBG](../images/SBG_NASAAirborne_logo.png)\n",
    "\n",
    "###  ORNL DAAC Workshop:  Accessing SBG-Relevant Airborne Data\n",
    "**Date:** May 20-22, 2025\n",
    "\n",
    "**Instructors:**  Michele Thornton, Rupesh Shrestha\n",
    "\n",
    "***\n",
    "## Overview\n",
    "The [ORNL DAAC](https://www.earthdata.nasa.gov/centers/ornl-daac) is the DAAC of Record for many SBG-relevant airborne Facility Instruments, including the Airborne Visibile/Infred Imagging Spectrometer ([AVIRIS](https://aviris.jpl.nasa.gov/)) and Hyperspectral Thermal Emission Spectrometer ([HyTES](https://hytes.jpl.nasa.gov/)) Facility Instruments. HyTES data will soon be archived and published to NASA Earthdata through the ORNL DAAC.  \n",
    "\n",
    "In this tutorial, we will access and visualize the airborne Hyperspectral Thermal Emission Spectrometer (HyTES) data for a flight line. The data were ordered from the [NASA JPL HyTES website](https://hytes.jpl.nasa.gov/order). The HyTES data will be available through [NASA Earthdata data](https://www.earthdata.nasa.gov/), including Earthdata Cloud, in future.\n",
    "\n",
    "The HyTES is an airborne imaging spectrometer with 256 spectral channels between 7.5 and 12 micrometers in the thermal infrared (TIR) part of the electromagnetic spectrum and 512 pixels cross-track. HyTES provides high spatial and high spectral resolution data on surface temperature and emissivity. HyTES acquires data in the thermal infrared (TIR). TIR data are used to measure land surface temperature (LST), which informs models of water flux from land surface through processes such as evapotranspiration"
   ]
  },
  {
   "cell_type": "code",
   "execution_count": null,
   "id": "d21e5e4a-30ec-481a-8d3d-5839ad8972cd",
   "metadata": {},
   "outputs": [],
   "source": [
    "# import python modules\n",
    "import xarray as xr\n",
    "import hvplot.xarray\n",
    "import hvplot.pandas\n",
    "import holoviews as hv\n",
    "import panel as pn\n",
    "from os import path\n",
    "import pandas as pd\n",
    "import geopandas as gpd\n",
    "from glob import glob\n",
    "import panel.widgets as pnw\n",
    "import numpy as np\n",
    "from shapely.geometry import MultiPoint"
   ]
  },
  {
   "cell_type": "code",
   "execution_count": null,
   "id": "dac229fa-1432-4fd5-954f-2e6e8fd6d053",
   "metadata": {},
   "outputs": [],
   "source": [
    "# esri background basemap for maps\n",
    "xyz = \"https://server.arcgisonline.com/ArcGIS/rest/services/World_Imagery/MapServer/tile/{z}/{y}/{x}\"\n",
    "attr = \"ESRI\""
   ]
  },
  {
   "cell_type": "markdown",
   "id": "bb29913c-f336-41d8-b740-b7614394f2a8",
   "metadata": {},
   "source": [
    "## HyTES Flights\n",
    "A GeoJSON of the HyTES flight lines is available at the shared directory. Let’s plot the Hytes flight lines here.\n"
   ]
  },
  {
   "cell_type": "code",
   "execution_count": null,
   "id": "62d71ead-6f62-4e97-8f1f-fb8dec26ab5b",
   "metadata": {},
   "outputs": [],
   "source": [
    "# HyTES directory\n",
    "base_dir = \"/home/jovyan/shared-public/hytes\"\n",
    "# read flight line geojson\n",
    "hytes_gdf = gpd.read_file(path.join(base_dir, \"HyTES.json\"))\n",
    "hytes_gdf.head()"
   ]
  },
  {
   "cell_type": "code",
   "execution_count": null,
   "id": "3767f1e0-6414-4256-b299-8a0b25769ad0",
   "metadata": {},
   "outputs": [],
   "source": [
    "# plot flight line, colored by locations\n",
    "hytes_gdf.explore('Location', legend=False, style_kwds={'weight': 3}, \n",
    "                  tiles=xyz, attr=attr)"
   ]
  },
  {
   "cell_type": "markdown",
   "id": "ae5cadf9-32ef-4f92-808b-ace7ccd1114a",
   "metadata": {},
   "source": [
    "## Study Area\n",
    "We will be using the boundary of [Langebaan Lagoon Marine Protected Area](https://en.wikipedia.org/wiki/Langebaan_Lagoon_Marine_Protected_Area) to find the intersecting HyTES flights. Langebaan is a inshore conservation area in South Africa and is declared as a [Ramsar Site](https://www.ramsar.org/)."
   ]
  },
  {
   "cell_type": "code",
   "execution_count": null,
   "id": "294e9f50-909c-47f1-b5b4-ab00058da3d0",
   "metadata": {},
   "outputs": [],
   "source": [
    "roi_gdf = gpd.read_file(path.join(base_dir, \"langebaan.json\"))\n",
    "roi_gdf.explore(color='red', tiles=xyz, attr=attr)"
   ]
  },
  {
   "cell_type": "markdown",
   "id": "bd409cc1-a379-4781-8d9d-6954f6f364fc",
   "metadata": {},
   "source": [
    "Let's find the HyTES flight lines that intersects the above region of interest."
   ]
  },
  {
   "cell_type": "code",
   "execution_count": null,
   "id": "bc13063a-25d7-458d-8e4e-b690d6c44c2f",
   "metadata": {},
   "outputs": [],
   "source": [
    "# intersect the region of interest with HyTES flight lines\n",
    "intersect_gdf = gpd.sjoin(hytes_gdf, roi_gdf, predicate='intersects')\n",
    "intersect_gdf[['Location', 'Acquisition_dt']]"
   ]
  },
  {
   "cell_type": "code",
   "execution_count": null,
   "id": "2d5a33be-132c-4f48-865c-0a666a10097b",
   "metadata": {},
   "outputs": [],
   "source": [
    "# mapping the flight lines\n",
    "intersect_gdf.explore('Acquisition_dt', color='red', tiles=xyz, attr=attr)"
   ]
  },
  {
   "cell_type": "markdown",
   "id": "3528c3cb-a086-48db-9e2c-b0d7ce27c897",
   "metadata": {},
   "source": [
    "HyTES flights are available for download from the [JPL HyTES Website](https://hytes.jpl.nasa.gov/order). We placed an order and downloaded the HyTES data for a flight line at Langebaan Box9ZA for 2023-10-16. They are available to download from here https://hytes.jpl.nasa.gov/orders_complete/HyTES-1747164185996a.zip (`4.7GB`), and also at the shared folder as shown below:"
   ]
  },
  {
   "cell_type": "code",
   "execution_count": null,
   "id": "da736da7-6662-4d86-a4b2-2f1f8116636f",
   "metadata": {},
   "outputs": [],
   "source": [
    "hytes_orderid = \"HyTES-1747164185996a\"\n",
    "hytes_dir = path.join(base_dir, hytes_orderid)\n",
    "hytes_dir"
   ]
  },
  {
   "cell_type": "code",
   "execution_count": null,
   "id": "7922ad60-299e-46d6-953e-29c5798443cc",
   "metadata": {},
   "outputs": [],
   "source": [
    "# list all the files from HyTES order\n",
    "hytes_f = sorted(glob(path.join(hytes_dir, \"*\")))\n",
    "hytes_f"
   ]
  },
  {
   "cell_type": "markdown",
   "id": "d45d2a52-3975-4bc7-82fc-5f366e6ffd7e",
   "metadata": {},
   "source": [
    "## SRF and WMX files\n",
    "Also notice there are `*.csv` files that are named as `HyTES_SRF_*` and `HyTES_WMX_*`. These files provides information on Signal Response Function (SRF) and Wave Matrix Data (WMX). Let's read these CSV files using pandas."
   ]
  },
  {
   "cell_type": "code",
   "execution_count": null,
   "id": "603432c8-4b71-4662-a595-a7d59195299a",
   "metadata": {},
   "outputs": [],
   "source": [
    "# csv file paths\n",
    "srf_f = sorted(glob(path.join(hytes_dir, \"HyTES_SRF*\")))[-1]\n",
    "wmx_f = sorted(glob(path.join(hytes_dir, \"HyTES_WMX*\")))[-1]\n",
    "# open srf files\n",
    "srf_df = pd.read_csv(srf_f, skiprows=1, index_col='BND')\n",
    "srf_df.head()"
   ]
  },
  {
   "cell_type": "code",
   "execution_count": null,
   "id": "eefa39ee-f2ee-4136-b79b-622be09dad52",
   "metadata": {},
   "outputs": [],
   "source": [
    "# open wmx file\n",
    "wmx_df = pd.read_csv(wmx_f, skiprows=1, index_col='BND')\n",
    "wmx_df.head()"
   ]
  },
  {
   "cell_type": "markdown",
   "id": "6d9b3e7d-6a8d-40c1-8501-fb6d2bc195b7",
   "metadata": {},
   "source": [
    "We can now plot to show how the SRF is distributed for each HyTES bands. Use the slider in the plot to scroll across the bands."
   ]
  },
  {
   "cell_type": "code",
   "execution_count": null,
   "id": "9c167ef6-1d83-444a-b319-889f8f98f132",
   "metadata": {},
   "outputs": [],
   "source": [
    "def srf_plot(n):\n",
    "    \"\"\"returns wmx srf values for a band\"\"\"\n",
    "    return pd.concat([wmx_df.loc[n], srf_df.loc[n]], \n",
    "                     keys = ['WMX','SRF'], axis=1)\n",
    "\n",
    "# band slider\n",
    "nbands = pn.widgets.IntSlider(name='Band', start=1, end=256)\n",
    "# interactive SRF plot \n",
    "temp_df = hvplot.bind(srf_plot, nbands).interactive(width=600)\n",
    "temp_df.hvplot.line(x='WMX', y='SRF')"
   ]
  },
  {
   "cell_type": "markdown",
   "id": "611341c0-882b-469a-8064-3fee38c36a77",
   "metadata": {},
   "source": [
    "## Flight Path\n",
    "The flight path along with the altitude of the aircraft is recorded in the `*.kml` Google KML file. Let's open the KML file and plot the flight path with flight altitude."
   ]
  },
  {
   "cell_type": "code",
   "execution_count": null,
   "id": "b261715e-92b8-4fa4-a306-8824dccf1a27",
   "metadata": {},
   "outputs": [],
   "source": [
    "# kml file\n",
    "kml_f = sorted(glob(path.join(hytes_dir, \"*_L1_*.kml\")))[0]\n",
    "# read the flight line kml file to geopandas\n",
    "gdf = gpd.read_file(kml_f, driver='KML')\n",
    "gdflist = []\n",
    "# loop through the rows and extract line coordinates (x, y, z)\n",
    "for i, r in gdf.iterrows():\n",
    "    gdflist.append(gpd.GeoDataFrame(crs=\"EPSG:4326\", \n",
    "                                    geometry=[MultiPoint(r.geometry.coords)]).explode())\n",
    "# create geopandas as MultiPoint\n",
    "kml_gdf = gpd.GeoDataFrame(pd.concat(gdflist, ignore_index=True) )\n",
    "# create a separate column for altitude\n",
    "kml_gdf['altitude'] = kml_gdf.geometry.map(lambda val: round(val.z, 4))\n",
    "# plot, colored by flight altitude\n",
    "kml_gdf.explore('altitude', cmap = \"plasma\", tiles=xyz, attr=attr)"
   ]
  },
  {
   "cell_type": "markdown",
   "id": "29080ea5-5ce1-4ba6-ba8b-f818c45b09d7",
   "metadata": {},
   "source": [
    "## HyTES Standard Products\n",
    "\n",
    "As we see above, there are two levels of HyTES products currently available for download.\n",
    "\n",
    "- **HyTES Level 1 (L1) product: Radiance and Locational Information**\n",
    "- **HyTES Level 2 (L2) product: Emissivity and Land Surface Temperature**.\n",
    "- **HyTES Level 3 (L3) product: Multi-species gas products (not available for BioSCape)**"
   ]
  },
  {
   "cell_type": "code",
   "execution_count": null,
   "id": "e93fdde7-259e-4bce-9954-a8c0b1d26f54",
   "metadata": {},
   "outputs": [],
   "source": [
    "# find all hytes L1/L2 HDF5 files\n",
    "hytes_h5 = sorted(glob(path.join(hytes_dir, \"*.hdf5\")))\n",
    "# print\n",
    "for f in hytes_h5:\n",
    "    print(path.basename(f))"
   ]
  },
  {
   "cell_type": "markdown",
   "id": "62d0d718-7873-4fd8-b12c-8d6943ad3fad",
   "metadata": {},
   "source": [
    "## HyTES L1 product\n",
    "L1 data file in `*.hdf5` format provides calibrated HyTES data in radiance units of W/m^2/µm/sr. The data is recorded with a band interleaved by pixel (BIP) format. The product also contain locational metadata from the instruments NGDCS, and per-pixel geolocation information, namely latitude, longitude, height, and number of steps taken during ray-casting. It has three dimensions: 1) lines (`n` = variable), 2) sample (`n` = 512), and 3) bands (`n` = 256).\n",
    "\n",
    "Let’s open the file and look into the variables. "
   ]
  },
  {
   "cell_type": "code",
   "execution_count": null,
   "id": "06a20ac2-5758-471a-92c6-73dcb5112e1d",
   "metadata": {},
   "outputs": [],
   "source": [
    "# L1 hdf5 file\n",
    "hytes_l1 = [f for f in hytes_h5 if \"_L1\" in f][0]\n",
    "# open dataset using xarray\n",
    "ds_l1 = xr.open_datatree(hytes_l1, engine=\"h5netcdf\", chunks='auto', \n",
    "                         phony_dims='sort')\n",
    "# plot xarray datatree\n",
    "ds_l1"
   ]
  },
  {
   "cell_type": "markdown",
   "id": "c0b7cdfb-24a4-4565-8ab7-063b451aec68",
   "metadata": {},
   "source": [
    "### Plotting L1 Radiance\n",
    "Let’s plot one of the radiance bands."
   ]
  },
  {
   "cell_type": "code",
   "execution_count": null,
   "id": "be587ffb-eb5f-45b2-9066-b04c7b8d91b7",
   "metadata": {},
   "outputs": [],
   "source": [
    "# convert to xarray dataset and rename dimensions to sensible names\n",
    "ds_l1 = ds_l1.to_dataset().rename({'phony_dim_0': 'line',\n",
    "                                   'phony_dim_1': 'sample', \n",
    "                                   'phony_dim_2': 'band'})\n",
    "# printing xarray dataset\n",
    "ds_l1"
   ]
  },
  {
   "cell_type": "code",
   "execution_count": null,
   "id": "c39dfe42-3ed7-4b71-8f4d-29bfe5106bca",
   "metadata": {},
   "outputs": [],
   "source": [
    "# retrieve radiance and plot a single band\n",
    "ds_l1.radiance_data.isel(band=179).hvplot.image(data_aspect=1, aspect='equal', \n",
    "                                               cmap='Greys', clim = (7, 12), \n",
    "                                               frame_width=120).opts(invert_yaxis=True)"
   ]
  },
  {
   "cell_type": "markdown",
   "id": "14967a2a-e77e-4d62-b003-280830c57d00",
   "metadata": {},
   "source": [
    "Let's create an RGB radiance composite using channels: 150 (10.1 µm), 100 (9.2 µm), and 58 (8.5 µm)."
   ]
  },
  {
   "cell_type": "code",
   "execution_count": null,
   "id": "3b25c24e-e413-41a0-bf58-abf3b27b9fe7",
   "metadata": {},
   "outputs": [],
   "source": [
    "# create RGB plot\n",
    "ds_rgb = ds_l1.radiance_data.isel(band=[150, 100, 58]) \n",
    "ds_rgb.coords['sample'] = np.arange(ds_rgb.sizes['sample']) \n",
    "ds_rgb.coords['line'] = np.arange(ds_rgb.sizes['line']) \n",
    "ds_rgb.coords['band'] = np.arange(ds_rgb.sizes['band'])\n",
    "ds_rgb.hvplot.rgb(x='sample', y='line', bands='band', rasterize=True, flip_yaxis=True, \n",
    "                  robust=True, data_aspect=1, aspect='equal', frame_width=120)"
   ]
  },
  {
   "cell_type": "markdown",
   "id": "7049c8ec-d230-4065-b983-2b05cd873f64",
   "metadata": {},
   "source": [
    "### Plot pixel radiance\n",
    "Let's plot radiances from three locations: 1) land, 2) inshore, and 3) water."
   ]
  },
  {
   "cell_type": "code",
   "execution_count": null,
   "id": "12e36842-e66c-4fa5-8178-cf38eb9291ab",
   "metadata": {
    "scrolled": true
   },
   "outputs": [],
   "source": [
    "# 3 locations\n",
    "df = pd.DataFrame( {\"Type\": [\"Inshore\", \"Land\", \"Water\"],\n",
    "                    \"y\": [-33.15014, -33.21875, -33.04839],\n",
    "                    \"x\": [18.06706, 18.11642, 18.00005]})\n",
    "# create geopandas\n",
    "gdf = gpd.GeoDataFrame(df, \n",
    "                       geometry=gpd.points_from_xy(df.x, df.y), crs=\"EPSG:4326\")\n",
    "# plot \n",
    "gdf.explore('Type',marker_kwds={'radius':5}, tiles=xyz, attr=attr)"
   ]
  },
  {
   "cell_type": "markdown",
   "id": "6eff6592-f083-4b6c-942a-56ecf5629d67",
   "metadata": {},
   "source": [
    "Now, lets find the pixel closest to the above coordinates, and retrieve and plot radiance values for all bands."
   ]
  },
  {
   "cell_type": "code",
   "execution_count": null,
   "id": "15e61bd7-2e14-4569-ae12-2ee7c47aec31",
   "metadata": {},
   "outputs": [],
   "source": [
    "def get_nearest_pixel(ds, lat, lon):\n",
    "    \"\"\"returns a single pixel dataset\"\"\"\n",
    "    y = ds.latitude - lat\n",
    "    x = ds.longitude - lon\n",
    "    r2 = y**2 + x**2\n",
    "    i = np.where(r2 == np.min(r2))\n",
    "    return ds.sel(line=i[0], sample=i[1])\n",
    "# assign coordinates to the xarray dataset\n",
    "ds_l1.coords['longitude'] = ds_l1.longitude\n",
    "ds_l1.coords['latitude'] = ds_l1.latitude\n",
    "\n",
    "# loop through the 3 points\n",
    "rad_ds = []\n",
    "types = []\n",
    "for r in gdf.itertuples():\n",
    "    types.append(r.Type)\n",
    "    # retrieve single pixel for the point\n",
    "    rad_ds.append(get_nearest_pixel(ds_l1, r.geometry.y, r.geometry.x))\n",
    "# create a concatenated single xarray dataset\n",
    "pts = xr.concat(rad_ds, pd.Index(types, name=\"Types\"))\n",
    "# plot radiance\n",
    "pts.radiance_data.hvplot.scatter(x='band', by='Types')"
   ]
  },
  {
   "cell_type": "markdown",
   "id": "24feaf37-5440-447b-b12e-a20424000119",
   "metadata": {},
   "source": [
    "## HyTES L2 product\n",
    "\n",
    "The L2 product file in `*.hdf5` format provides 3 key datasets:\n",
    "1. `L2_Emissivity`: Emissivity spectral data from 8.2-11.5 micrometers, retrieved on 164 Temperature Emissivity Separation (TES) bands instead of 256.\n",
    "2. `L2_Emissivity_PC`: Principal Component (PC) eigenvector regression emissivity data from 7.4-12 micrometers for all 256 channels.\n",
    "3. `L2_LST`: Land surface temperature in Kelvin. Derived from atmospherically corrected level-1 radiance data using the TES algorithm.\n",
    "\n",
    "Note some HyTES campaigns are flown on \"ER2\" and others campaigns are \"Twin Otter\" flights. The L2 products are slightly different between these two flights. Please refer to the [file description](https://hytes.jpl.nasa.gov/documents/file-description) and the [L2 ATBD](https://hytes.jpl.nasa.gov/downloads/atbds/HyTES_L2_ATBD.pdf) for more information.\n",
    "\n",
    "Let’s open the L2 PC Regression Emissivity data file."
   ]
  },
  {
   "cell_type": "code",
   "execution_count": null,
   "id": "86f42155-495c-4f06-9293-ba3f753f9c8c",
   "metadata": {},
   "outputs": [],
   "source": [
    "hytes_l2 = [f for f in hytes_h5 if \"_L2\" in f][0]\n",
    "# open dataset\n",
    "ds_l2 = xr.open_datatree(hytes_l2, engine=\"h5netcdf\", chunks='auto', phony_dims='sort')\n",
    "ds_l2 = ds_l2.to_dataset().rename({'phony_dim_0': 'band','phony_dim_1': 'line', \n",
    "                      'phony_dim_2': 'sample', 'phony_dim_3': 'bands_emis'})\n",
    "ds_l2"
   ]
  },
  {
   "cell_type": "markdown",
   "id": "982cccad-5e78-4600-905b-cf768208723d",
   "metadata": {},
   "source": [
    "### Emissivity of a single pixel\n",
    "Let's plot `L2_Emissivity` and `L2_Emissivity_PC` values from the above inshore location in a same plot."
   ]
  },
  {
   "cell_type": "code",
   "execution_count": null,
   "id": "817b520e-9950-45cb-82b5-1764b78fdabc",
   "metadata": {},
   "outputs": [],
   "source": [
    "ds_s = ds_l2.sel(sample=218, line=2164)\n",
    "((ds_s.hvplot.scatter(y='L2_Emissivity_PC', x='L2_Emissivity_PC_Wavelengths', color='green', label='L2_Emissivity_PC', xlabel='Wavelengths', ylabel='Emissivity')) \n",
    "* (ds_s).hvplot.scatter(y='L2_Emissivity', x='L2_Emissivity_Wavelengths', color='red', label='L2_Emissivity'))"
   ]
  },
  {
   "cell_type": "markdown",
   "id": "b5b7b482-d6e4-4800-bcf2-9e27de9adf0e",
   "metadata": {},
   "source": [
    "### L2 Land Surface Temperature\n",
    "Let's plot the variables `Land Surface Temperature (LST)`. The data is in units of Kelvin."
   ]
  },
  {
   "cell_type": "code",
   "execution_count": null,
   "id": "f813bac7-ab45-424c-bf1c-3e430b78235a",
   "metadata": {},
   "outputs": [],
   "source": [
    "ds_l2.L2_LST.hvplot.image(width=300, height=600,cmap='seismic',\n",
    "             clim = (250, 350)).opts(invert_yaxis=True)"
   ]
  },
  {
   "cell_type": "code",
   "execution_count": null,
   "id": "57e8bd70-dcc5-4e5f-b096-3ee4d77a42f3",
   "metadata": {},
   "outputs": [],
   "source": []
  }
 ],
 "metadata": {
  "kernelspec": {
   "display_name": "Python 3 (ipykernel)",
   "language": "python",
   "name": "python3"
  },
  "language_info": {
   "codemirror_mode": {
    "name": "ipython",
    "version": 3
   },
   "file_extension": ".py",
   "mimetype": "text/x-python",
   "name": "python",
   "nbconvert_exporter": "python",
   "pygments_lexer": "ipython3",
   "version": "3.11.12"
  }
 },
 "nbformat": 4,
 "nbformat_minor": 5
}
